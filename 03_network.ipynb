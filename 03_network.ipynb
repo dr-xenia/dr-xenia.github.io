{
 "cells": [
  {
   "cell_type": "markdown",
   "metadata": {},
   "source": [
    "# Network simulation\n",
    "\n",
    "To understand the human brain, we need to analyze its signals. As the brain is hidden within the skull, there is a limited amount of methods available to extract brain signals (in the living human). We mostly use fMRI and EEG and we learn mostly about fMRI here. "
   ]
  },
  {
   "cell_type": "code",
   "execution_count": null,
   "metadata": {
    "vscode": {
     "languageId": "plaintext"
    }
   },
   "outputs": [],
   "source": [
    "## Recap"
   ]
  },
  {
   "cell_type": "markdown",
   "metadata": {},
   "source": [
    "### Part 1: Connectivity \n",
    "# Learning goals\n",
    "- define what nodes and edges are\n",
    "- describe basic graph theory characteristics of a brain network\n",
    "- list the steps on how get from a brain MRI scan to a brain network\n",
    "- explain how different connectivity characteristics influence the resulting dynamics"
   ]
  },
  {
   "cell_type": "markdown",
   "metadata": {},
   "source": [
    "## Lecture\n",
    "\n",
    "### Graph theory basics\n",
    "\n",
    "![alt text](figures/network_02.jpg \"Traffic in Ruhrgebiet\")\n",
    "Consider traffic as a sort of information transfer.\n",
    "\n",
    "![alt text](figures/network_01.jpg \"Nodes_Edges\")\n",
    "\n",
    "Ref: Handiru (2021)\n",
    "\n",
    "In the context of brain networks in this study, every brain region is a node, whereas the connection between nodes is an edge. Colored shaded regions correspond to modules which are groups of interconnected nodes but have fewer connections to other modules. On the left, the concept of network segregation is presented as a network comprising of multiple modules (or segregated subnetworks) whereas, on the right, the network integration is illustrated as a group of distant regions interconnected by long‐range connections via connector hubs (nodes with a high degree of connectivity). The choice of nodes and edges can be influenced by the anatomical parcellation schemes and measures for determining connectivity. Some of the connections are direct, while others are indirect (to pass from one to another, the signal has to travel via another node).\n",
    "\n",
    "![alt text](figures/network_04.jpg \"Between regularity and chaos\")\n",
    "\n",
    "Ref: Radiologykey.com\n",
    "\n",
    "Why should we apply graph theory to the brain? (according to Kaiser et al. 2011)\n",
    "1. Networks provide an abstraction that can reduce the complexity when dealing with neural networks. \n",
    "2. The overall organization of brain networks has been proven reliable in that features such as modularity, present but varying to some degree, could be found in all human brain networks. \n",
    "3. Using the same frame of reference, given by the identity of network nodes as representing brain regions, both comparisons between subjects as well as comparisons of different kinds of networks (e.g. structural versus functional) are feasible (Rubinov and Sporns, 2010)."
   ]
  },
  {
   "cell_type": "markdown",
   "metadata": {},
   "source": [
    "<div class=\"alert alert-block alert-success\">\n",
    "<b>Exercise 1 </b><p>\n",
    "Steps to calculate structural and functional connectivity networks (i.e., connectomes)\n",
    "    \n",
    "<p>\n",
    " -End of exercise-\n",
    "    </div>"
   ]
  },
  {
   "cell_type": "code",
   "execution_count": null,
   "metadata": {
    "vscode": {
     "languageId": "plaintext"
    }
   },
   "outputs": [],
   "source": [
    "# setting parameters\n",
    "N = 6\n",
    "# cmat is the structural connectivity matrix (here we start with a fully\n",
    "# connected network)\n",
    "cmat = np.ones((N, N)) # fully connected network\n",
    "# dmat is the delay matrix, at the moment we consider instantaneous interactions\n",
    "# between brain regions, so no delays\n",
    "dmat = np.zeros((N,N)) # no delays\n",
    "\n",
    "# Let's create a network model!\n",
    "network_model = KuramotoModel(Cmat=cmat, Dmat=dmat)\n",
    "# Set the duration of the simulation\n",
    "network_model.params['duration'] = 50\n",
    "# Set the intrinsic frequency\n",
    "network_model.params['omega'] = np.random.rand((N)) * 0.25 * np.pi\n",
    "# Let's start without any noise\n",
    "network_model.params['sigma_ou'] = 0.\n",
    "# For now our oscillators are uncoupled, so K = 0\n",
    "network_model.params['k'] = 0\n",
    "network_model.run()\n",
    "\n",
    "theta = network_model['theta'].T\n",
    "# cap the phase to be between 0 and 2pi\n",
    "theta_capped = np.mod(theta, 2*np.pi)\n",
    "\n",
    "# set up the figure\n",
    "fig, ax = plt.subplots(1, 1, figsize=(10, 4))\n",
    "\n",
    "plt.plot(network_model.t, theta_capped)\n",
    "plt.xlabel(\"Time\")\n",
    "plt.ylabel(\"Theta\")\n",
    "plt.yticks(np.arange(0, 2*np.pi+0.1, np.pi/2), [ r\"$0$\", r\"$\\pi/2$\", r\"$\\pi$\", r\"$3/4\\pi$\", r\"$2\\pi$\",])# modify y-axis ticks to be in multiples of pi\n",
    "plt.show()"
   ]
  },
  {
   "cell_type": "code",
   "execution_count": null,
   "metadata": {
    "vscode": {
     "languageId": "plaintext"
    }
   },
   "outputs": [],
   "source": []
  },
  {
   "cell_type": "markdown",
   "metadata": {},
   "source": [
    "To understand the effect of connectivity on model dynamics, we will use an adaptation of the Hopf model/ Stuart-Landau model. The model simulates the activity of all cortical ROIs, with their intercommunication determined by the empirical structural connectivity (SC) matrix, $A$. \n",
    "The elements of the connectivity matrix are $C_{ij} = 0$ if no fiber bundle exist projecting from ROI $i$ to ROI $j$.\n",
    " Otherwise, $A_{ij}$ represent the weight of that connection. See Ref. [1] for a detailed description of the complete model and its resulting spatio-temporal dynamics.\n",
    "\n",
    "The dynamics of a single Stuart-Landau system [2,3] is given by the following differential equation, with complex variable $z$:\n",
    "\n",
    "$\\dot{z} \\;=\\; (a + i\\omega)\\,z \\;+\\; z \\, |z^2|$\n",
    "\n",
    "We will not consider the bifurcation parameter further and set it to zero. $\\omega$ the natural frequency of oscillation. \n",
    "\n",
    "The dynamics of each ROI will follow the equation above, coupled via the connectivity matrix. Each region is provided with an additive Guassian noise $\\xi(t)$ of standard deviation $\\beta$. The activity of each ROI in the complete system is described by:\n",
    "\n",
    "$\\dot{z}_j \\;=\\; (a_j + i\\omega_j)\\,z_j \\;+\\; z_j \\, |z_j^2| \\;+\\; g \\sum_{j=1}^N C_{ij} (z_i - z_j) \\;+\\; \\beta \\xi_j(t)$.\n",
    "\n",
    "As you learned in the previous lectures, $g$ is a global coupling parameter that re-scales the weights of every connection. It controls the level of synchrony of the coupled system. When $g=0$, the system is uncoupled and all ROIs behave independently. \n",
    "As $g$ increases, the interdependence between ROIs becomes stronger and may lead to a global synchronised state.\n",
    "\n",
    "--------------\n",
    "[1] G. Deco, M.L. Kringelbach, B.K. Jirsa & P. Ritter, \"The dynamics of resting fluctuations in the brain: metastability and its dynamical core.\" *Sci. Reps.* **7**:3095 (2017).\n",
    "\n",
    "[2] L.D. Landau, \"On the problem of turbulence\". *Dokl. Akad. Nauk SSSR* **44**(8), 339-349  (1944).\n",
    "\n",
    "[3] J.T. Stuart, \"On the non-linear mechanics of hydrodynamic stability\". *J. Fluid Mechcs* **4**(1), 1-21 (1958)."
   ]
  },
  {
   "cell_type": "code",
   "execution_count": null,
   "metadata": {
    "vscode": {
     "languageId": "plaintext"
    }
   },
   "outputs": [],
   "source": [
    "# Let's import all the relevant libraries\n",
    "from neurolib.models.hopf import HopfModel\n",
    "import numpy as np\n",
    "import matplotlib.pyplot as plt\n",
    "from nilearn.connectome import ConnectivityMeasure\n"
   ]
  },
  {
   "cell_type": "markdown",
   "metadata": {},
   "source": [
    "<div class=\"alert alert-block alert-success\">\n",
    "<b>Exercise 2: effects of connectivity on brain dynamics</b><p>\n",
    "We will start with the adapted Hopf model and explore how the connectivity influences the dynamics. Adapt the code below. You can also copy the code first and adjust the code for each of the six exercises. \n",
    "\n",
    "1. Let's first simulate the the fully interconnected network. Adjust the structural connectivity matrix in the code below so that all nodes are fully connected.\n",
    "\n",
    "ANSWER: ...\n",
    "\n",
    "2. Now, what happens if a region becomes fully disconnected? \n",
    "\n",
    "ANSWER: ...\n",
    "\n",
    "3. What happens if you change the connections to slightly less than 1, i.e. 0.9?\n",
    "\n",
    "ANSWER: ...\n",
    "\n",
    "4. Repeat all the above steps but now change the coupling parameter to 0, 0.5 and 1. How does the coupling parameter influence the dynamics? \n",
    "\n",
    "ANSWER: ...\n",
    "\n",
    "5. Create a structural connectivity matrix that is not homogeneous, i.e., the nodes are not equally connected with each other. Create a completely random network first (e.g., using the np.random function). The self-connections along the diagonal should be between 0 and 1 and the self-connections (along the diagonal) should be 1. What are the effects on the time series and on functional connectivity?\n",
    "\n",
    "ANSWER: ...\n",
    "\n",
    "6. Now, create two modules within the network that are connected by one node. Please draw the matrix first that you want to create and transfer it to code. How do the time series from one (random) node of one community and one (random) node of the other community behave in dependance of the coupling and the connector hub connectivity? \n",
    "\n",
    "ANSWER: ...\n",
    "\n",
    "   \n",
    "<p>\n",
    " -End of exercise-\n",
    " </div>"
   ]
  },
  {
   "cell_type": "code",
   "execution_count": null,
   "metadata": {
    "vscode": {
     "languageId": "plaintext"
    }
   },
   "outputs": [],
   "source": [
    "# functional connectivity measure\n",
    "correlation_measure = ConnectivityMeasure(kind='correlation')\n",
    "\n",
    "# We import the model\n",
    "model = HopfModel()\n",
    "\n",
    "# Set noise strength to zero to define target state\n",
    "model.params.sigma_ou = 0\n",
    "\n",
    "# setting parameters\n",
    "# we have 10 brain regions\n",
    "N = 10\n",
    "# cmat is the structural connectivity matrix (here we start with a fully\n",
    "# connected network)\n",
    "cmat = ....\n",
    "# dmat is the delay matrix, at the moment we consider instantaneous interactions\n",
    "# between brain regions, so no delays\n",
    "dmat = np.zeros((N,N)) # no delays\n",
    "\n",
    "# intrinsic angular frequency of the oscillation\n",
    "model.params['omega'] = np.ones((N)) * 0.25 * np.pi\n",
    "# set the noise here\n",
    "model.params['sigma_ou'] = 0\n",
    "# set the coupling here\n",
    "model.params['k'] = 1\n",
    "# duration of the oscillation\n",
    "model.params['duration'] = 1.0*1000\n",
    "\n",
    "\n",
    "model.run()\n",
    "\n",
    "plt.figure(figsize=(4, 4))\n",
    "plt.plot(model.t, model.x.T, c='k', lw=2)\n",
    "plt.xlabel(\"t [ms]\")\n",
    "plt.ylabel(\"Activity\")\n",
    "plt.title(f\"$a$: {bif_param}\\n $\\omega$: {frequency}\")\n",
    "plt.grid(True)\n",
    "plt.show()\n",
    "\n",
    "plt.figure(figsize=(4, 4))\n",
    "functional_connectivity = correlation_measure.fit_transform([model.x.T])\n",
    "plt.imshow(np.squeeze(functional_connectivity))"
   ]
  },
  {
   "cell_type": "code",
   "execution_count": null,
   "metadata": {
    "vscode": {
     "languageId": "plaintext"
    }
   },
   "outputs": [],
   "source": [
    "# solutions\n",
    "(maybe QR code?)"
   ]
  },
  {
   "cell_type": "markdown",
   "metadata": {},
   "source": [
    "## Check your learning goals!\n",
    "# Part 2: Fitting\n",
    "## Learning goals\n",
    "<input type=\"checkbox\" id=\"1\" name=\"1\" value=\"yes\">\n",
    "<label for=\"vehicle1\">I can define what nodes and edges are</label><br>\n",
    "<input type=\"checkbox\" id=\"2\" name=\"2\" value=\"yes\">\n",
    "<label for=\"vehicle1\">I can describe basic graph theory characteristics of a brain network</label><br>\n",
    "<input type=\"checkbox\" id=\"3\" name=\"3\" value=\"yes\">\n",
    "<label for=\"vehicle1\">I can list the steps on how get from a brain MRI scan to a brain network</label><br>\n",
    "<input type=\"checkbox\" id=\"4\" name=\"4\" value=\"yes\">\n",
    "<label for=\"vehicle1\">I can explain how different connectivity characteristics influence the resulting dynamics</label><br>"
   ]
  },
  {
   "cell_type": "markdown",
   "metadata": {},
   "source": [
    "# Part 2: Fitting\n",
    "Imagine you have a dataset and you want to simulate the time series. How do you make sure that the parameters are chosen in such a way that they represent the data best? "
   ]
  },
  {
   "cell_type": "code",
   "execution_count": null,
   "metadata": {
    "vscode": {
     "languageId": "plaintext"
    }
   },
   "outputs": [],
   "source": [
    "# functional connectivity measure\n",
    "correlation_measure = ConnectivityMeasure(kind='correlation')\n",
    "\n",
    "# We import the model\n",
    "model = HopfModel()\n",
    "\n",
    "# Set noise strength to zero to define target state\n",
    "model.params.sigma_ou = 0\n",
    "\n",
    "# setting parameters\n",
    "# we have 10 brain regions\n",
    "N = 10\n",
    "# cmat is the structural connectivity matrix (here we start with a fully\n",
    "# connected network)\n",
    "cmat = ....\n",
    "# dmat is the delay matrix, at the moment we consider instantaneous interactions\n",
    "# between brain regions, so no delays\n",
    "dmat = np.zeros((N,N)) # no delays\n",
    "\n",
    "# intrinsic angular frequency of the oscillation\n",
    "model.params['omega'] = np.ones((N)) * 0.25 * np.pi\n",
    "# set the noise here\n",
    "model.params['sigma_ou'] = 0\n",
    "# set the coupling here\n",
    "model.params['k'] = 1\n",
    "# duration of the oscillation\n",
    "model.params['duration'] = 1.0*1000\n",
    "\n",
    "model.run()\n",
    "\n",
    "plt.figure(figsize=(4, 4))\n",
    "plt.plot(model.t, model.x.T, c='k', lw=2)\n",
    "plt.xlabel(\"t [ms]\")\n",
    "plt.ylabel(\"Activity\")\n",
    "plt.title(f\"$a$: {bif_param}\\n $\\omega$: {frequency}\")\n",
    "plt.grid(True)\n",
    "plt.show()\n",
    "\n",
    "plt.figure(figsize=(4, 4))\n",
    "functional_connectivity = correlation_measure.fit_transform([model.x.T])\n",
    "plt.imshow(np.squeeze(functional_connectivity))"
   ]
  },
  {
   "cell_type": "markdown",
   "metadata": {},
   "source": [
    "Further reading material\n",
    "Olaf Sporns. Networks of the Brain. MIT Press, 2010"
   ]
  }
 ],
 "metadata": {
  "kernelspec": {
   "display_name": "Python 3",
   "language": "python",
   "name": "python3"
  },
  "language_info": {
   "codemirror_mode": {
    "name": "ipython",
    "version": 3
   },
   "file_extension": ".py",
   "mimetype": "text/x-python",
   "name": "python",
   "nbconvert_exporter": "python",
   "pygments_lexer": "ipython3",
   "version": "3.6.4"
  }
 },
 "nbformat": 4,
 "nbformat_minor": 2
}
